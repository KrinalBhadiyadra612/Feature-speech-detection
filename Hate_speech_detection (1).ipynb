{
 "cells": [
  {
   "cell_type": "code",
   "execution_count": 1,
   "id": "b2a74257-a66c-4b52-a877-cb2e3748b8f8",
   "metadata": {},
   "outputs": [],
   "source": [
    "import pandas as pd\n",
    "import numpy as np\n",
    "import re\n",
    "import matplotlib.pyplot as plt\n",
    "import seaborn as sns\n",
    "from sklearn.model_selection import train_test_split\n",
    "from sklearn.feature_extraction.text import TfidfVectorizer\n",
    "from sklearn.ensemble import RandomForestClassifier\n",
    "from sklearn.linear_model import LogisticRegression\n",
    "from sklearn.svm import SVC\n",
    "from sklearn.metrics import accuracy_score, roc_auc_score, mean_absolute_error, mean_squared_error, classification_report, confusion_matrix, precision_score\n",
    "from imblearn.over_sampling import SMOTE\n",
    "import tensorflow as tf\n",
    "from tensorflow.keras.preprocessing.text import Tokenizer\n",
    "from tensorflow.keras.preprocessing.sequence import pad_sequences\n",
    "from tensorflow.keras.models import Sequential\n",
    "from tensorflow.keras.layers import Embedding, LSTM, Dense, SpatialDropout1D\n"
   ]
  },
  {
   "cell_type": "code",
   "execution_count": 2,
   "id": "a4dc48f9-2305-4e22-b53a-bb0effc97128",
   "metadata": {},
   "outputs": [
    {
     "data": {
      "text/html": [
       "<div>\n",
       "<style scoped>\n",
       "    .dataframe tbody tr th:only-of-type {\n",
       "        vertical-align: middle;\n",
       "    }\n",
       "\n",
       "    .dataframe tbody tr th {\n",
       "        vertical-align: top;\n",
       "    }\n",
       "\n",
       "    .dataframe thead th {\n",
       "        text-align: right;\n",
       "    }\n",
       "</style>\n",
       "<table border=\"1\" class=\"dataframe\">\n",
       "  <thead>\n",
       "    <tr style=\"text-align: right;\">\n",
       "      <th></th>\n",
       "      <th>Post ID</th>\n",
       "      <th>Post description</th>\n",
       "      <th>Date</th>\n",
       "      <th>Language</th>\n",
       "      <th>Translated Post Description</th>\n",
       "      <th>Sentiment</th>\n",
       "      <th>Hate</th>\n",
       "      <th>Stress or Anxiety</th>\n",
       "    </tr>\n",
       "  </thead>\n",
       "  <tbody>\n",
       "    <tr>\n",
       "      <th>0</th>\n",
       "      <td>CgXDOaQDvGm</td>\n",
       "      <td>“I have decided that the global #monkeypox out...</td>\n",
       "      <td>07/23/2022</td>\n",
       "      <td>English</td>\n",
       "      <td>“I have decided that the global #monkeypox out...</td>\n",
       "      <td>neutral</td>\n",
       "      <td>Not Hate</td>\n",
       "      <td>Stress/Anxiety Detected</td>\n",
       "    </tr>\n",
       "    <tr>\n",
       "      <th>1</th>\n",
       "      <td>CgXaQpFOAqL</td>\n",
       "      <td>If you can’t make fun of yourself, how the hel...</td>\n",
       "      <td>07/23/2022</td>\n",
       "      <td>English</td>\n",
       "      <td>If you can’t make fun of yourself, how the hel...</td>\n",
       "      <td>anger</td>\n",
       "      <td>Hate</td>\n",
       "      <td>No Stress/Anxiety Detected</td>\n",
       "    </tr>\n",
       "    <tr>\n",
       "      <th>2</th>\n",
       "      <td>CgXpRmMIdzG</td>\n",
       "      <td>In light of the evolving monkeypox outbreak wi...</td>\n",
       "      <td>07/23/2022</td>\n",
       "      <td>English</td>\n",
       "      <td>In light of the evolving monkeypox outbreak wi...</td>\n",
       "      <td>neutral</td>\n",
       "      <td>Not Hate</td>\n",
       "      <td>Stress/Anxiety Detected</td>\n",
       "    </tr>\n",
       "    <tr>\n",
       "      <th>3</th>\n",
       "      <td>CgXMyIjP34S</td>\n",
       "      <td>#LinkInBio | The World Health Organization sai...</td>\n",
       "      <td>07/23/2022</td>\n",
       "      <td>English</td>\n",
       "      <td>#LinkInBio | The World Health Organization sai...</td>\n",
       "      <td>fear</td>\n",
       "      <td>Not Hate</td>\n",
       "      <td>Stress/Anxiety Detected</td>\n",
       "    </tr>\n",
       "    <tr>\n",
       "      <th>4</th>\n",
       "      <td>CgXaFGDsevq</td>\n",
       "      <td>If you've been hearing about monkeypox and wan...</td>\n",
       "      <td>07/23/2022</td>\n",
       "      <td>English</td>\n",
       "      <td>If you've been hearing about monkeypox and wan...</td>\n",
       "      <td>neutral</td>\n",
       "      <td>Not Hate</td>\n",
       "      <td>No Stress/Anxiety Detected</td>\n",
       "    </tr>\n",
       "  </tbody>\n",
       "</table>\n",
       "</div>"
      ],
      "text/plain": [
       "       Post ID                                   Post description        Date  \\\n",
       "0  CgXDOaQDvGm  “I have decided that the global #monkeypox out...  07/23/2022   \n",
       "1  CgXaQpFOAqL  If you can’t make fun of yourself, how the hel...  07/23/2022   \n",
       "2  CgXpRmMIdzG  In light of the evolving monkeypox outbreak wi...  07/23/2022   \n",
       "3  CgXMyIjP34S  #LinkInBio | The World Health Organization sai...  07/23/2022   \n",
       "4  CgXaFGDsevq  If you've been hearing about monkeypox and wan...  07/23/2022   \n",
       "\n",
       "  Language                        Translated Post Description Sentiment  \\\n",
       "0  English  “I have decided that the global #monkeypox out...   neutral   \n",
       "1  English  If you can’t make fun of yourself, how the hel...     anger   \n",
       "2  English  In light of the evolving monkeypox outbreak wi...   neutral   \n",
       "3  English  #LinkInBio | The World Health Organization sai...      fear   \n",
       "4  English  If you've been hearing about monkeypox and wan...   neutral   \n",
       "\n",
       "       Hate           Stress or Anxiety  \n",
       "0  Not Hate     Stress/Anxiety Detected  \n",
       "1      Hate  No Stress/Anxiety Detected  \n",
       "2  Not Hate     Stress/Anxiety Detected  \n",
       "3  Not Hate     Stress/Anxiety Detected  \n",
       "4  Not Hate  No Stress/Anxiety Detected  "
      ]
     },
     "execution_count": 2,
     "metadata": {},
     "output_type": "execute_result"
    }
   ],
   "source": [
    "# Dataset\n",
    "file_path = \"Downloads/Dataset (1).xlsx\"\n",
    "xls = pd.ExcelFile(file_path)\n",
    "df = pd.read_excel(xls, sheet_name='Sheet1')\n",
    "df.head()"
   ]
  },
  {
   "cell_type": "code",
   "execution_count": 3,
   "id": "4dc6fbf7-88cd-4b55-8985-982e1c62b2ea",
   "metadata": {},
   "outputs": [
    {
     "data": {
      "text/html": [
       "<div>\n",
       "<style scoped>\n",
       "    .dataframe tbody tr th:only-of-type {\n",
       "        vertical-align: middle;\n",
       "    }\n",
       "\n",
       "    .dataframe tbody tr th {\n",
       "        vertical-align: top;\n",
       "    }\n",
       "\n",
       "    .dataframe thead th {\n",
       "        text-align: right;\n",
       "    }\n",
       "</style>\n",
       "<table border=\"1\" class=\"dataframe\">\n",
       "  <thead>\n",
       "    <tr style=\"text-align: right;\">\n",
       "      <th></th>\n",
       "      <th>Post ID</th>\n",
       "      <th>Post description</th>\n",
       "      <th>Date</th>\n",
       "      <th>Language</th>\n",
       "      <th>Translated Post Description</th>\n",
       "      <th>Sentiment</th>\n",
       "      <th>Hate</th>\n",
       "      <th>Stress or Anxiety</th>\n",
       "      <th>Cleaned_Text</th>\n",
       "      <th>Hate_Label</th>\n",
       "    </tr>\n",
       "  </thead>\n",
       "  <tbody>\n",
       "    <tr>\n",
       "      <th>0</th>\n",
       "      <td>CgXDOaQDvGm</td>\n",
       "      <td>“I have decided that the global #monkeypox out...</td>\n",
       "      <td>07/23/2022</td>\n",
       "      <td>English</td>\n",
       "      <td>“I have decided that the global #monkeypox out...</td>\n",
       "      <td>neutral</td>\n",
       "      <td>Not Hate</td>\n",
       "      <td>Stress/Anxiety Detected</td>\n",
       "      <td>i have decided that the global monkeypox outbr...</td>\n",
       "      <td>0</td>\n",
       "    </tr>\n",
       "    <tr>\n",
       "      <th>1</th>\n",
       "      <td>CgXaQpFOAqL</td>\n",
       "      <td>If you can’t make fun of yourself, how the hel...</td>\n",
       "      <td>07/23/2022</td>\n",
       "      <td>English</td>\n",
       "      <td>If you can’t make fun of yourself, how the hel...</td>\n",
       "      <td>anger</td>\n",
       "      <td>Hate</td>\n",
       "      <td>No Stress/Anxiety Detected</td>\n",
       "      <td>if you cant make fun of yourself how the hell ...</td>\n",
       "      <td>1</td>\n",
       "    </tr>\n",
       "    <tr>\n",
       "      <th>2</th>\n",
       "      <td>CgXpRmMIdzG</td>\n",
       "      <td>In light of the evolving monkeypox outbreak wi...</td>\n",
       "      <td>07/23/2022</td>\n",
       "      <td>English</td>\n",
       "      <td>In light of the evolving monkeypox outbreak wi...</td>\n",
       "      <td>neutral</td>\n",
       "      <td>Not Hate</td>\n",
       "      <td>Stress/Anxiety Detected</td>\n",
       "      <td>in light of the evolving monkeypox outbreak wi...</td>\n",
       "      <td>0</td>\n",
       "    </tr>\n",
       "    <tr>\n",
       "      <th>3</th>\n",
       "      <td>CgXMyIjP34S</td>\n",
       "      <td>#LinkInBio | The World Health Organization sai...</td>\n",
       "      <td>07/23/2022</td>\n",
       "      <td>English</td>\n",
       "      <td>#LinkInBio | The World Health Organization sai...</td>\n",
       "      <td>fear</td>\n",
       "      <td>Not Hate</td>\n",
       "      <td>Stress/Anxiety Detected</td>\n",
       "      <td>linkinbio  the world health organization said ...</td>\n",
       "      <td>0</td>\n",
       "    </tr>\n",
       "    <tr>\n",
       "      <th>4</th>\n",
       "      <td>CgXaFGDsevq</td>\n",
       "      <td>If you've been hearing about monkeypox and wan...</td>\n",
       "      <td>07/23/2022</td>\n",
       "      <td>English</td>\n",
       "      <td>If you've been hearing about monkeypox and wan...</td>\n",
       "      <td>neutral</td>\n",
       "      <td>Not Hate</td>\n",
       "      <td>No Stress/Anxiety Detected</td>\n",
       "      <td>if youve been hearing about monkeypox and want...</td>\n",
       "      <td>0</td>\n",
       "    </tr>\n",
       "  </tbody>\n",
       "</table>\n",
       "</div>"
      ],
      "text/plain": [
       "       Post ID                                   Post description        Date  \\\n",
       "0  CgXDOaQDvGm  “I have decided that the global #monkeypox out...  07/23/2022   \n",
       "1  CgXaQpFOAqL  If you can’t make fun of yourself, how the hel...  07/23/2022   \n",
       "2  CgXpRmMIdzG  In light of the evolving monkeypox outbreak wi...  07/23/2022   \n",
       "3  CgXMyIjP34S  #LinkInBio | The World Health Organization sai...  07/23/2022   \n",
       "4  CgXaFGDsevq  If you've been hearing about monkeypox and wan...  07/23/2022   \n",
       "\n",
       "  Language                        Translated Post Description Sentiment  \\\n",
       "0  English  “I have decided that the global #monkeypox out...   neutral   \n",
       "1  English  If you can’t make fun of yourself, how the hel...     anger   \n",
       "2  English  In light of the evolving monkeypox outbreak wi...   neutral   \n",
       "3  English  #LinkInBio | The World Health Organization sai...      fear   \n",
       "4  English  If you've been hearing about monkeypox and wan...   neutral   \n",
       "\n",
       "       Hate           Stress or Anxiety  \\\n",
       "0  Not Hate     Stress/Anxiety Detected   \n",
       "1      Hate  No Stress/Anxiety Detected   \n",
       "2  Not Hate     Stress/Anxiety Detected   \n",
       "3  Not Hate     Stress/Anxiety Detected   \n",
       "4  Not Hate  No Stress/Anxiety Detected   \n",
       "\n",
       "                                        Cleaned_Text  Hate_Label  \n",
       "0  i have decided that the global monkeypox outbr...           0  \n",
       "1  if you cant make fun of yourself how the hell ...           1  \n",
       "2  in light of the evolving monkeypox outbreak wi...           0  \n",
       "3  linkinbio  the world health organization said ...           0  \n",
       "4  if youve been hearing about monkeypox and want...           0  "
      ]
     },
     "execution_count": 3,
     "metadata": {},
     "output_type": "execute_result"
    }
   ],
   "source": [
    "def clean_text(text):\n",
    "    text = re.sub(r'http\\S+', '', text)\n",
    "    text = re.sub(r'@\\w+', '', text)\n",
    "    text = re.sub(r'#', '', text)\n",
    "    text = re.sub(r'[^a-zA-Z\\s]', '', text)\n",
    "    return text.lower().strip()\n",
    "df['Cleaned_Text'] = df['Translated Post Description'].astype(str).apply(clean_text)\n",
    "df['Hate_Label'] = df['Hate'].apply(lambda x: 1 if x == 'Hate' else 0)\n",
    "df.head()"
   ]
  },
  {
   "cell_type": "code",
   "execution_count": 5,
   "id": "e2a48752-e001-46b4-8125-0a825dff3576",
   "metadata": {},
   "outputs": [
    {
     "name": "stdout",
     "output_type": "stream",
     "text": [
      "Missing Values Count:\n",
      " Post ID                        0\n",
      "Post description               0\n",
      "Date                           0\n",
      "Language                       0\n",
      "Translated Post Description    0\n",
      "Sentiment                      0\n",
      "Hate                           0\n",
      "Stress or Anxiety              0\n",
      "Cleaned_Text                   0\n",
      "Hate_Label                     0\n",
      "dtype: int64\n"
     ]
    }
   ],
   "source": [
    "print(\"Missing Values Count:\\n\", df.isnull().sum())"
   ]
  },
  {
   "cell_type": "code",
   "execution_count": 9,
   "id": "116e7be2-3274-48a9-a324-5919d71e776c",
   "metadata": {},
   "outputs": [
    {
     "name": "stderr",
     "output_type": "stream",
     "text": [
      "/var/folders/8v/j8pkmx0n4td2qyyslsvztkgh0000gn/T/ipykernel_38028/454677205.py:1: FutureWarning: \n",
      "\n",
      "Passing `palette` without assigning `hue` is deprecated and will be removed in v0.14.0. Assign the `x` variable to `hue` and set `legend=False` for the same effect.\n",
      "\n",
      "  sns.countplot(x='Hate', data=df, palette='coolwarm')\n"
     ]
    },
    {
     "data": {
      "image/png": "[encoded data removed]",
      "text/plain": [
       "<Figure size 640x480 with 1 Axes>"
      ]
     },
     "metadata": {},
     "output_type": "display_data"
    }
   ],
   "source": [
    "sns.countplot(x='Hate', data=df, palette='coolwarm')\n",
    "plt.title('Hate Speech Distribution')\n",
    "plt.show()"
   ]
  },
  {
   "cell_type": "code",
   "execution_count": 11,
   "id": "a988b846-d481-4705-9441-aae0f8ec469f",
   "metadata": {},
   "outputs": [
    {
     "data": {
      "text/plain": [
       "((48101, 1000), (12026, 1000))"
      ]
     },
     "execution_count": 11,
     "metadata": {},
     "output_type": "execute_result"
    }
   ],
   "source": [
    "#TF-IDF\n",
    "vectorizer = TfidfVectorizer(max_features=1000)\n",
    "X = vectorizer.fit_transform(df['Cleaned_Text'])\n",
    "y = df['Hate_Label']\n",
    "X_train, X_test, y_train, y_test = train_test_split(X, y, test_size=0.2, random_state=42)\n",
    "X_train.shape, X_test.shape"
   ]
  },
  {
   "cell_type": "code",
   "execution_count": 13,
   "id": "b8a07c74-f01d-43dd-8945-4b422234c2c9",
   "metadata": {},
   "outputs": [],
   "source": [
    "smote = SMOTE(random_state=42)\n",
    "X_resampled, y_resampled = smote.fit_resample(X, y)\n",
    "X_train, X_test, y_train, y_test = train_test_split(X_resampled, y_resampled, test_size=0.2, random_state=42)"
   ]
  },
  {
   "cell_type": "code",
   "execution_count": 15,
   "id": "9b060ba4-a3f3-4cca-9fa8-f38355df18f2",
   "metadata": {},
   "outputs": [
    {
     "name": "stdout",
     "output_type": "stream",
     "text": [
      "              precision    recall  f1-score   support\n",
      "\n",
      "           0       0.95      0.89      0.92     11601\n",
      "           1       0.89      0.95      0.92     11427\n",
      "\n",
      "    accuracy                           0.92     23028\n",
      "   macro avg       0.92      0.92      0.92     23028\n",
      "weighted avg       0.92      0.92      0.92     23028\n",
      "\n"
     ]
    }
   ],
   "source": [
    "# Logistic Regression\n",
    "lr_model = LogisticRegression()\n",
    "lr_model.fit(X_train, y_train)\n",
    "y_pred = lr_model.predict(X_test)\n",
    "print(classification_report(y_test, y_pred))"
   ]
  },
  {
   "cell_type": "code",
   "execution_count": 17,
   "id": "13a019c9-dbb2-445e-b30a-5866bfb9f4c9",
   "metadata": {},
   "outputs": [
    {
     "name": "stdout",
     "output_type": "stream",
     "text": [
      "              precision    recall  f1-score   support\n",
      "\n",
      "           0       1.00      0.97      0.98     11601\n",
      "           1       0.97      1.00      0.98     11427\n",
      "\n",
      "    accuracy                           0.98     23028\n",
      "   macro avg       0.98      0.98      0.98     23028\n",
      "weighted avg       0.98      0.98      0.98     23028\n",
      "\n"
     ]
    }
   ],
   "source": [
    "# Random Forest \n",
    "f_model = RandomForestClassifier(n_estimators=100)\n",
    "rf_model.fit(X_train, y_train)\n",
    "y_pred_rf = rf_model.predict(X_test)\n",
    "print(classification_report(y_test, y_pred_rf))"
   ]
  },
  {
   "cell_type": "code",
   "execution_count": 18,
   "id": "7afb996e-6e32-401f-aab9-2263afff40cf",
   "metadata": {},
   "outputs": [
    {
     "name": "stdout",
     "output_type": "stream",
     "text": [
      "              precision    recall  f1-score   support\n",
      "\n",
      "           0       0.96      0.89      0.92     11601\n",
      "           1       0.89      0.96      0.93     11427\n",
      "\n",
      "    accuracy                           0.92     23028\n",
      "   macro avg       0.93      0.92      0.92     23028\n",
      "weighted avg       0.93      0.92      0.92     23028\n",
      "\n"
     ]
    }
   ],
   "source": [
    "from sklearn.svm import SVC\n",
    "# svm\n",
    "svm_model = SVC(kernel='linear')\n",
    "svm_model.fit(X_train, y_train)\n",
    "y_pred_svm = svm_model.predict(X_test)\n",
    "print(classification_report(y_test, y_pred_svm))"
   ]
  },
  {
   "cell_type": "code",
   "execution_count": 19,
   "id": "a2456ac4-1957-491f-8269-d90b811a98c2",
   "metadata": {},
   "outputs": [],
   "source": [
    "tokenizer = Tokenizer(num_words=5000)\n",
    "tokenizer.fit_on_texts(df['Cleaned_Text'])\n",
    "X_seq = tokenizer.texts_to_sequences(df['Cleaned_Text'])\n",
    "X_pad = pad_sequences(X_seq, maxlen=100)\n",
    "X_train_lstm, X_test_lstm, y_train_lstm, y_test_lstm = train_test_split(X_pad, y, test_size=0.2, random_state=42)"
   ]
  },
  {
   "cell_type": "code",
   "execution_count": 21,
   "id": "b1fcf3c5-916a-401c-a151-6cfa11c7bede",
   "metadata": {},
   "outputs": [
    {
     "name": "stdout",
     "output_type": "stream",
     "text": [
      "Epoch 1/5\n",
      "\u001b[1m1504/1504\u001b[0m \u001b[32m━━━━━━━━━━━━━━━━━━━━\u001b[0m\u001b[37m\u001b[0m \u001b[1m118s\u001b[0m 77ms/step - accuracy: 0.9597 - loss: 0.1501 - val_accuracy: 0.9710 - val_loss: 0.0886\n",
      "Epoch 2/5\n",
      "\u001b[1m1504/1504\u001b[0m \u001b[32m━━━━━━━━━━━━━━━━━━━━\u001b[0m\u001b[37m\u001b[0m \u001b[1m117s\u001b[0m 78ms/step - accuracy: 0.9713 - loss: 0.0806 - val_accuracy: 0.9736 - val_loss: 0.0775\n",
      "Epoch 3/5\n",
      "\u001b[1m1504/1504\u001b[0m \u001b[32m━━━━━━━━━━━━━━━━━━━━\u001b[0m\u001b[37m\u001b[0m \u001b[1m117s\u001b[0m 78ms/step - accuracy: 0.9791 - loss: 0.0601 - val_accuracy: 0.9765 - val_loss: 0.0723\n",
      "Epoch 4/5\n",
      "\u001b[1m1504/1504\u001b[0m \u001b[32m━━━━━━━━━━━━━━━━━━━━\u001b[0m\u001b[37m\u001b[0m \u001b[1m116s\u001b[0m 77ms/step - accuracy: 0.9841 - loss: 0.0451 - val_accuracy: 0.9769 - val_loss: 0.0785\n",
      "Epoch 5/5\n",
      "\u001b[1m1504/1504\u001b[0m \u001b[32m━━━━━━━━━━━━━━━━━━━━\u001b[0m\u001b[37m\u001b[0m \u001b[1m114s\u001b[0m 76ms/step - accuracy: 0.9878 - loss: 0.0356 - val_accuracy: 0.9776 - val_loss: 0.0818\n"
     ]
    },
    {
     "data": {
      "text/plain": [
       "<keras.src.callbacks.history.History at 0x302d8cfe0>"
      ]
     },
     "execution_count": 21,
     "metadata": {},
     "output_type": "execute_result"
    }
   ],
   "source": [
    "# LSTM \n",
    "lstm_model = Sequential([\n",
    "    Embedding(input_dim=5000, output_dim=128), \n",
    "    LSTM(100, dropout=0.2, recurrent_dropout=0.2),\n",
    "    Dense(1, activation='sigmoid')  \n",
    "])\n",
    "lstm_model.compile(loss='binary_crossentropy', optimizer='adam', metrics=['accuracy'])\n",
    "lstm_model.fit(X_train_lstm, y_train_lstm, epochs=5, batch_size=32, validation_data=(X_test_lstm, y_test_lstm))"
   ]
  },
  {
   "cell_type": "code",
   "execution_count": 27,
   "id": "b2e3885b-088b-40e8-a3a3-477d0af39224",
   "metadata": {},
   "outputs": [
    {
     "name": "stdout",
     "output_type": "stream",
     "text": [
      "\n",
      " Model: Logistic Regression\n",
      "              precision    recall  f1-score   support\n",
      "\n",
      "           0       0.95      0.89      0.92     11601\n",
      "           1       0.89      0.95      0.92     11427\n",
      "\n",
      "    accuracy                           0.92     23028\n",
      "   macro avg       0.92      0.92      0.92     23028\n",
      "weighted avg       0.92      0.92      0.92     23028\n",
      "\n",
      "Accuracy: 0.9215 | AUC/ROC: 0.9754 | Precision: 0.9234 | MAE: 0.0785 | MSE: 0.0785 | RMSE: 0.2802 | MAPE: 55801632797.1296%\n"
     ]
    },
    {
     "data": {
      "image/png": "[encoded data removed]",
      "text/plain": [
       "<Figure size 600x400 with 2 Axes>"
      ]
     },
     "metadata": {},
     "output_type": "display_data"
    },
    {
     "name": "stdout",
     "output_type": "stream",
     "text": [
      "\n",
      " Model: Random Forest\n",
      "              precision    recall  f1-score   support\n",
      "\n",
      "           0       1.00      0.97      0.98     11601\n",
      "           1       0.97      1.00      0.98     11427\n",
      "\n",
      "    accuracy                           0.98     23028\n",
      "   macro avg       0.98      0.98      0.98     23028\n",
      "weighted avg       0.98      0.98      0.98     23028\n",
      "\n",
      "Accuracy: 0.9832 | AUC/ROC: 0.9986 | Precision: 0.9834 | MAE: 0.0168 | MSE: 0.0168 | RMSE: 0.1298 | MAPE: 14547507382.5473%\n"
     ]
    },
    {
     "data": {
      "image/png": "[encoded data removed]",
      "text/plain": [
       "<Figure size 600x400 with 2 Axes>"
      ]
     },
     "metadata": {},
     "output_type": "display_data"
    },
    {
     "name": "stdout",
     "output_type": "stream",
     "text": [
      "\n",
      " Model: SVM\n",
      "              precision    recall  f1-score   support\n",
      "\n",
      "           0       0.96      0.89      0.92     11601\n",
      "           1       0.89      0.96      0.93     11427\n",
      "\n",
      "    accuracy                           0.92     23028\n",
      "   macro avg       0.93      0.92      0.92     23028\n",
      "weighted avg       0.93      0.92      0.92     23028\n",
      "\n",
      "Accuracy: 0.9234 | AUC/ROC: 0.9236 | Precision: 0.9260 | MAE: 0.0766 | MSE: 0.0766 | RMSE: 0.2768 | MAPE: 57842626369.7803%\n"
     ]
    },
    {
     "data": {
      "image/png": "[encoded data removed]",
      "text/plain": [
       "<Figure size 600x400 with 2 Axes>"
      ]
     },
     "metadata": {},
     "output_type": "display_data"
    },
    {
     "name": "stdout",
     "output_type": "stream",
     "text": [
      "\u001b[1m376/376\u001b[0m \u001b[32m━━━━━━━━━━━━━━━━━━━━\u001b[0m\u001b[37m\u001b[0m \u001b[1m5s\u001b[0m 14ms/step\n",
      "\n",
      " Model: LSTM\n",
      "              precision    recall  f1-score   support\n",
      "\n",
      "           0       0.98      0.99      0.99     11526\n",
      "           1       0.80      0.62      0.70       500\n",
      "\n",
      "    accuracy                           0.98     12026\n",
      "   macro avg       0.89      0.81      0.84     12026\n",
      "weighted avg       0.98      0.98      0.98     12026\n",
      "\n",
      "Accuracy: 0.9776 | AUC/ROC: 0.8066 | Precision: 0.9759 | MAE: 0.0224 | MSE: 0.0224 | RMSE: 0.1496 | MAPE: 6569100284.3007%\n"
     ]
    },
    {
     "data": {
      "image/png": "[encoded data removed]",
      "text/plain": [
       "<Figure size 600x400 with 2 Axes>"
      ]
     },
     "metadata": {},
     "output_type": "display_data"
    },
    {
     "data": {
      "text/html": [
       "<div>\n",
       "<style scoped>\n",
       "    .dataframe tbody tr th:only-of-type {\n",
       "        vertical-align: middle;\n",
       "    }\n",
       "\n",
       "    .dataframe tbody tr th {\n",
       "        vertical-align: top;\n",
       "    }\n",
       "\n",
       "    .dataframe thead th {\n",
       "        text-align: right;\n",
       "    }\n",
       "</style>\n",
       "<table border=\"1\" class=\"dataframe\">\n",
       "  <thead>\n",
       "    <tr style=\"text-align: right;\">\n",
       "      <th></th>\n",
       "      <th>AUC/ROC</th>\n",
       "      <th>Precision</th>\n",
       "      <th>Accuracy</th>\n",
       "      <th>MAE</th>\n",
       "      <th>MSE</th>\n",
       "      <th>RMSE</th>\n",
       "      <th>MAPE</th>\n",
       "    </tr>\n",
       "  </thead>\n",
       "  <tbody>\n",
       "    <tr>\n",
       "      <th>Logistic Regression</th>\n",
       "      <td>0.975440</td>\n",
       "      <td>0.923379</td>\n",
       "      <td>0.921487</td>\n",
       "      <td>0.078513</td>\n",
       "      <td>0.078513</td>\n",
       "      <td>0.280202</td>\n",
       "      <td>5.580163e+10</td>\n",
       "    </tr>\n",
       "    <tr>\n",
       "      <th>Random Forest</th>\n",
       "      <td>0.998552</td>\n",
       "      <td>0.983444</td>\n",
       "      <td>0.983151</td>\n",
       "      <td>0.016849</td>\n",
       "      <td>0.016849</td>\n",
       "      <td>0.129804</td>\n",
       "      <td>1.454751e+10</td>\n",
       "    </tr>\n",
       "    <tr>\n",
       "      <th>SVM</th>\n",
       "      <td>0.923645</td>\n",
       "      <td>0.925993</td>\n",
       "      <td>0.923354</td>\n",
       "      <td>0.076646</td>\n",
       "      <td>0.076646</td>\n",
       "      <td>0.276850</td>\n",
       "      <td>5.784263e+10</td>\n",
       "    </tr>\n",
       "    <tr>\n",
       "      <th>LSTM</th>\n",
       "      <td>0.806573</td>\n",
       "      <td>0.975908</td>\n",
       "      <td>0.977632</td>\n",
       "      <td>0.022368</td>\n",
       "      <td>0.022368</td>\n",
       "      <td>0.149560</td>\n",
       "      <td>6.569100e+09</td>\n",
       "    </tr>\n",
       "  </tbody>\n",
       "</table>\n",
       "</div>"
      ],
      "text/plain": [
       "                      AUC/ROC  Precision  Accuracy       MAE       MSE  \\\n",
       "Logistic Regression  0.975440   0.923379  0.921487  0.078513  0.078513   \n",
       "Random Forest        0.998552   0.983444  0.983151  0.016849  0.016849   \n",
       "SVM                  0.923645   0.925993  0.923354  0.076646  0.076646   \n",
       "LSTM                 0.806573   0.975908  0.977632  0.022368  0.022368   \n",
       "\n",
       "                         RMSE          MAPE  \n",
       "Logistic Regression  0.280202  5.580163e+10  \n",
       "Random Forest        0.129804  1.454751e+10  \n",
       "SVM                  0.276850  5.784263e+10  \n",
       "LSTM                 0.149560  6.569100e+09  "
      ]
     },
     "metadata": {},
     "output_type": "display_data"
    },
    {
     "name": "stdout",
     "output_type": "stream",
     "text": [
      "\n",
      " Best Model Based on AUC/ROC: Random Forest (0.9986)\n",
      " Best Model Based on Lowest RMSE: Random Forest (0.1298)\n",
      "\n",
      " Recomm Best Model for Hate Speech Detection: Random Forest \n"
     ]
    }
   ],
   "source": [
    "model_performance = {}\n",
    "def evaluate_model(model, X_test, y_test, model_name, is_lstm=False):\n",
    "    \"Model evaluation and key performance metrics.\"\n",
    "    try:\n",
    "        if is_lstm:\n",
    "            y_pred_prob = model.predict(X_test).flatten()\n",
    "            y_pred = (y_pred_prob > 0.5).astype(int)\n",
    "        else:\n",
    "            y_pred_prob = model.predict_proba(X_test)[:, 1] if hasattr(model, \"predict_proba\") else model.predict(X_test)\n",
    "            y_pred = (y_pred_prob > 0.5).astype(int)\n",
    "        accuracy = accuracy_score(y_test, y_pred)\n",
    "        auc_roc = roc_auc_score(y_test, y_pred_prob) if not is_lstm else roc_auc_score(y_test, y_pred)\n",
    "        precision = precision_score(y_test, y_pred, average='weighted')\n",
    "        mae = mean_absolute_error(y_test, y_pred)\n",
    "        mse = mean_squared_error(y_test, y_pred)\n",
    "        rmse = np.sqrt(mse)\n",
    "        mape = np.mean(np.abs((y_test - y_pred) / (y_test + 1e-10))) * 100 \n",
    "        model_performance[model_name] = {\n",
    "            \"AUC/ROC\": auc_roc, \"Precision\": precision, \"Accuracy\": accuracy,\n",
    "            \"MAE\": mae, \"MSE\": mse, \"RMSE\": rmse, \"MAPE\": mape\n",
    "        }\n",
    "        print(f\"\\n Model: {model_name}\")\n",
    "        print(classification_report(y_test, y_pred))\n",
    "        print(f\"Accuracy: {accuracy:.4f} | AUC/ROC: {auc_roc:.4f} | Precision: {precision:.4f} | MAE: {mae:.4f} | MSE: {mse:.4f} | RMSE: {rmse:.4f} | MAPE: {mape:.4f}%\")\n",
    "        plt.figure(figsize=(6, 4))\n",
    "        sns.heatmap(confusion_matrix(y_test, y_pred), annot=True, fmt='d', cmap='Blues')\n",
    "        plt.title(f'Confusion Matrix - {model_name}')\n",
    "        plt.xlabel('Predicted')\n",
    "        plt.ylabel('Actual')\n",
    "        plt.show()\n",
    "    except Exception as e:\n",
    "        print(f\" Error Evaluating {model_name}: {e}\")\n",
    "models = {\n",
    "    \"Logistic Regression\": lr_model,\n",
    "    \"Random Forest\": rf_model,\n",
    "    \"SVM\": svm_model\n",
    "}\n",
    "for name, model in models.items():\n",
    "    evaluate_model(model, X_test, y_test, name)\n",
    "evaluate_model(lstm_model, X_test_lstm, y_test_lstm, \"LSTM\", is_lstm=True)\n",
    "evaluation_df = pd.DataFrame(model_performance).T  \n",
    "from IPython.display import display\n",
    "display(evaluation_df)\n",
    "best_model_auc = max(evaluation_df.index, key=lambda x: evaluation_df.loc[x, \"AUC/ROC\"])\n",
    "best_model_rmse = min(evaluation_df.index, key=lambda x: evaluation_df.loc[x, \"RMSE\"])\n",
    "print(f\"\\n Best Model Based on AUC/ROC: {best_model_auc} ({evaluation_df.loc[best_model_auc, 'AUC/ROC']:.4f})\")\n",
    "print(f\" Best Model Based on Lowest RMSE: {best_model_rmse} ({evaluation_df.loc[best_model_rmse, 'RMSE']:.4f})\")\n",
    "final_best_model = best_model_auc if best_model_auc == best_model_rmse else best_model_auc\n",
    "print(f\"\\n Recomm Best Model for Hate Speech Detection: {final_best_model} \")"
   ]
  },
  {
   "cell_type": "code",
   "execution_count": null,
   "id": "5c56a9a8-7ce7-4f72-a9dd-fd6e54e702a7",
   "metadata": {},
   "outputs": [],
   "source": []
  },
  {
   "cell_type": "code",
   "execution_count": null,
   "id": "447f7821-af6b-4166-8b0e-7b1387e18155",
   "metadata": {},
   "outputs": [],
   "source": []
  }
 ],
 "metadata": {
  "kernelspec": {
   "display_name": "Python [conda env:base] *",
   "language": "python",
   "name": "conda-base-py"
  },
  "language_info": {
   "codemirror_mode": {
    "name": "ipython",
    "version": 3
   },
   "file_extension": ".py",
   "mimetype": "text/x-python",
   "name": "python",
   "nbconvert_exporter": "python",
   "pygments_lexer": "ipython3",
   "version": "3.12.7"
  }
 },
 "nbformat": 4,
 "nbformat_minor": 5
}
